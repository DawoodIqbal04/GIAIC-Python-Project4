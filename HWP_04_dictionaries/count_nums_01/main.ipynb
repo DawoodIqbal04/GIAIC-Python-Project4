{
 "cells": [
  {
   "cell_type": "code",
   "execution_count": 2,
   "id": "5389f98f",
   "metadata": {},
   "outputs": [],
   "source": [
    "\n",
    "def get_num_from_user():\n",
    "\n",
    "    user_numbers = []\n",
    "\n",
    "    while True:\n",
    "        user_input = input(\"Enter a number: \")\n",
    "\n",
    "        if user_input == \"\":\n",
    "            break\n",
    "\n",
    "        nums = int(user_input)\n",
    "        user_numbers.append(nums)\n",
    "\n",
    "    return user_numbers"
   ]
  },
  {
   "cell_type": "code",
   "execution_count": 3,
   "id": "7048f9a8",
   "metadata": {},
   "outputs": [],
   "source": [
    "def count_nums(nums):\n",
    "\n",
    "    num_obj = {}\n",
    "\n",
    "    for num in nums:\n",
    "        if num in num_obj:\n",
    "            num_obj[num] += 1\n",
    "        else:\n",
    "            num_obj[num] = 1\n",
    "\n",
    "    return num_obj"
   ]
  },
  {
   "cell_type": "code",
   "execution_count": 4,
   "id": "234d53eb",
   "metadata": {},
   "outputs": [],
   "source": [
    "def print_num_count(num_obj):\n",
    "\n",
    "    for num in num_obj:\n",
    "        print(f\"{str(num)} apears {num_obj[num]} times\")"
   ]
  },
  {
   "cell_type": "code",
   "execution_count": 5,
   "id": "7a3285b6",
   "metadata": {},
   "outputs": [
    {
     "name": "stdout",
     "output_type": "stream",
     "text": [
      "3 apears 1 times\n",
      "4 apears 1 times\n",
      "2 apears 1 times\n",
      "6 apears 1 times\n"
     ]
    }
   ],
   "source": [
    "def main():\n",
    "    user_numbers = get_num_from_user()\n",
    "    num_obj = count_nums(user_numbers)\n",
    "    print_num_count(num_obj)\n",
    "\n",
    "\n",
    "if __name__ == \"__main__\":\n",
    "    main()"
   ]
  }
 ],
 "metadata": {
  "kernelspec": {
   "display_name": "Python 3",
   "language": "python",
   "name": "python3"
  },
  "language_info": {
   "codemirror_mode": {
    "name": "ipython",
    "version": 3
   },
   "file_extension": ".py",
   "mimetype": "text/x-python",
   "name": "python",
   "nbconvert_exporter": "python",
   "pygments_lexer": "ipython3",
   "version": "3.13.2"
  }
 },
 "nbformat": 4,
 "nbformat_minor": 5
}
