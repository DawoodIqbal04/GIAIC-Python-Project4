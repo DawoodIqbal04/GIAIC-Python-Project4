{
 "cells": [
  {
   "cell_type": "code",
   "execution_count": 2,
   "id": "449c0b07",
   "metadata": {},
   "outputs": [
    {
     "name": "stdout",
     "output_type": "stream",
     "text": [
      "0\n",
      "1\n",
      "1\n",
      "2\n",
      "3\n",
      "5\n",
      "8\n",
      "13\n",
      "21\n",
      "34\n",
      "55\n",
      "89\n",
      "144\n",
      "233\n",
      "377\n",
      "610\n",
      "987\n",
      "1597\n",
      "2584\n",
      "4181\n",
      "6765\n"
     ]
    }
   ],
   "source": [
    "max_term: int = 10000\n",
    "\n",
    "def main():\n",
    "    \n",
    "    first_term: int = 0\n",
    "    second_term: int = 1\n",
    "\n",
    "    while first_term <= max_term:\n",
    "        print(first_term)\n",
    "        term_after_second_term = first_term + second_term\n",
    "        first_term = second_term\n",
    "        second_term = term_after_second_term\n",
    "\n",
    "if __name__ == \"__main__\":\n",
    "    main()"
   ]
  }
 ],
 "metadata": {
  "kernelspec": {
   "display_name": "Python 3",
   "language": "python",
   "name": "python3"
  },
  "language_info": {
   "codemirror_mode": {
    "name": "ipython",
    "version": 3
   },
   "file_extension": ".py",
   "mimetype": "text/x-python",
   "name": "python",
   "nbconvert_exporter": "python",
   "pygments_lexer": "ipython3",
   "version": "3.13.2"
  }
 },
 "nbformat": 4,
 "nbformat_minor": 5
}
