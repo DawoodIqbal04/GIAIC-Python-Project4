{
 "cells": [
  {
   "cell_type": "code",
   "execution_count": 2,
   "id": "f5257740",
   "metadata": {},
   "outputs": [
    {
     "name": "stdout",
     "output_type": "stream",
     "text": [
      "Your total amount is Rs. 665\n"
     ]
    }
   ],
   "source": [
    "items : dict = {\n",
    "    \"Biscuits\" : 40,\n",
    "    \"Cold Drink\" : 110,\n",
    "    \"Chips\" : 50,\n",
    "    \"Cake\" : 40,\n",
    "    \"Chocolate\" : 100,\n",
    "    \"Juice\" : 55,\n",
    "}\n",
    "\n",
    "def main():\n",
    "    total_cost = 0\n",
    "    for items_name in items:\n",
    "        price = items[items_name]\n",
    "        how_many_bought = int(input(f\"How many {items_name} you want to buy: \"))\n",
    "        total_cost += (price * how_many_bought)\n",
    "\n",
    "    print(f\"Your total amount is Rs. {total_cost}\")\n",
    "\n",
    "if __name__ == \"__main__\":\n",
    "    main()\n"
   ]
  }
 ],
 "metadata": {
  "kernelspec": {
   "display_name": "Python 3",
   "language": "python",
   "name": "python3"
  },
  "language_info": {
   "codemirror_mode": {
    "name": "ipython",
    "version": 3
   },
   "file_extension": ".py",
   "mimetype": "text/x-python",
   "name": "python",
   "nbconvert_exporter": "python",
   "pygments_lexer": "ipython3",
   "version": "3.13.2"
  }
 },
 "nbformat": 4,
 "nbformat_minor": 5
}
