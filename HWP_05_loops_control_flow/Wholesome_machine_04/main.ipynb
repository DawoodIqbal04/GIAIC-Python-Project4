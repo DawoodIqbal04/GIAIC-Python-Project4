{
 "cells": [
  {
   "cell_type": "code",
   "execution_count": 2,
   "id": "f610e166",
   "metadata": {},
   "outputs": [
    {
     "name": "stdout",
     "output_type": "stream",
     "text": [
      "Please type the following Affirmation: I am capable, confident, and creating the life I desire.\n",
      "This is not right Affirmation\n",
      "Please type the following Affirmation: I am capable, confident, and creating the life I desire. \n",
      "This is the correct Affirmation!\n"
     ]
    }
   ],
   "source": [
    "\n",
    "Affirmation: str = \"I am capable, confident, and creating the life I desire.\"\n",
    "\n",
    "def main():\n",
    "\n",
    "    print(f\"Please type the following Affirmation: {Affirmation}\")\n",
    "\n",
    "    user_input: str = input()\n",
    "\n",
    "    while user_input != Affirmation:\n",
    "        print(\"This is not right Affirmation\")\n",
    "\n",
    "        print(f\"Please type the following Affirmation: {Affirmation} \")\n",
    "\n",
    "        user_input: str = input()\n",
    "\n",
    "    print(\"This is the correct Affirmation!\")\n",
    "\n",
    "if __name__ == \"__main__\":\n",
    "    main()"
   ]
  }
 ],
 "metadata": {
  "kernelspec": {
   "display_name": "Python 3",
   "language": "python",
   "name": "python3"
  },
  "language_info": {
   "codemirror_mode": {
    "name": "ipython",
    "version": 3
   },
   "file_extension": ".py",
   "mimetype": "text/x-python",
   "name": "python",
   "nbconvert_exporter": "python",
   "pygments_lexer": "ipython3",
   "version": "3.13.2"
  }
 },
 "nbformat": 4,
 "nbformat_minor": 5
}
