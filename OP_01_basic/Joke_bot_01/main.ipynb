{
  "nbformat": 4,
  "nbformat_minor": 0,
  "metadata": {
    "colab": {
      "provenance": [],
      "authorship_tag": "ABX9TyOo0SH/nd9No7BBC6ta277l",
      "include_colab_link": true
    },
    "kernelspec": {
      "name": "python3",
      "display_name": "Python 3"
    },
    "language_info": {
      "name": "python"
    }
  },
  "cells": [
    {
      "cell_type": "markdown",
      "metadata": {
        "id": "view-in-github",
        "colab_type": "text"
      },
      "source": [
        "<a href=\"https://colab.research.google.com/github/DawoodIqbal04/GIAIC-Python-Project4/blob/main/OP_01_basic/Joke_bot_01/main.ipynb\" target=\"_parent\"><img src=\"https://colab.research.google.com/assets/colab-badge.svg\" alt=\"Open In Colab\"/></a>"
      ]
    },
    {
      "cell_type": "code",
      "execution_count": 10,
      "metadata": {
        "colab": {
          "base_uri": "https://localhost:8080/"
        },
        "id": "baSf7tLLWLjj",
        "outputId": "8af220d9-1068-496c-c211-e4f49723d520"
      },
      "outputs": [
        {
          "output_type": "stream",
          "name": "stdout",
          "text": [
            "What do want! Joke\n",
            "A man buys a talking parrot from a pet store for $50. The seller warns him, “It used to live in a comedy club it talks, but it roasts people.” At home, the parrot looks at him and says, “Nice try dressing up, but those shoes? Yikes. I roast, not compliment.” 🦜😆\n"
          ]
        }
      ],
      "source": [
        "Prompt: str = \"What do want! \"\n",
        "Joke: str = \"A man buys a talking parrot from a pet store for $50. The seller warns him, “It used to live in a comedy club it talks, but it roasts people.” At home, the parrot looks at him and says, “Nice try dressing up, but those shoes? Yikes. I roast, not compliment.” 🦜😆\"\n",
        "Sorry: str = \"Sorry I can only tell Jokes: \"\n",
        "\n",
        "def main():\n",
        "  input_user: str = input(Prompt).lower()\n",
        "  if \"joke\" in input_user:\n",
        "    print(Joke)\n",
        "  else:\n",
        "    print(Sorry)\n",
        "\n",
        "if __name__ == \"__main__\":\n",
        "  main()"
      ]
    }
  ]
}