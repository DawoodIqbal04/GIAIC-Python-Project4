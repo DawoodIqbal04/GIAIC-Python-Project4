{
 "cells": [
  {
   "cell_type": "code",
   "execution_count": 1,
   "id": "d68d541c",
   "metadata": {},
   "outputs": [
    {
     "name": "stdout",
     "output_type": "stream",
     "text": [
      "your guess is too low!\n",
      "your guess is too low!\n",
      "your guess is too low!\n",
      "your guess is too low!\n",
      "your guess is too low!\n",
      "your guess is too low!\n",
      "your guess is too high!\n",
      "your guess is too high!\n",
      "your guess is too high!\n",
      "your guess is too high!\n",
      "your guess is too high!\n",
      "your guess is too high!\n",
      "\n",
      "Congratulations! You guessed the right number!\n"
     ]
    }
   ],
   "source": [
    "import random\n",
    "\n",
    "def main():\n",
    "    random_number: int = random.randint(1, 99)\n",
    "\n",
    "    guess = int(input(\"Guess the number: \"))\n",
    "\n",
    "    while guess != random_number:\n",
    "        if guess < random_number:\n",
    "            print(\"your guess is too low!\")\n",
    "        else:\n",
    "            print(\"your guess is too high!\")\n",
    "\n",
    "        guess = int(input(\"Guess the new number: \"))\n",
    "\n",
    "    print()\n",
    "    print(\"Congratulations! You guessed the right number!\")\n",
    "\n",
    "\n",
    "if __name__ == \"__main__\":\n",
    "    main()"
   ]
  }
 ],
 "metadata": {
  "kernelspec": {
   "display_name": "base",
   "language": "python",
   "name": "python3"
  },
  "language_info": {
   "codemirror_mode": {
    "name": "ipython",
    "version": 3
   },
   "file_extension": ".py",
   "mimetype": "text/x-python",
   "name": "python",
   "nbconvert_exporter": "python",
   "pygments_lexer": "ipython3",
   "version": "3.12.7"
  }
 },
 "nbformat": 4,
 "nbformat_minor": 5
}
