
def get_num_from_user():

    user_numbers = []

    while True:
        user_input = input("Enter a number: ")

        if user_input == "":
            break

        nums = int(user_input)
        user_numbers.append(nums)

    return user_numbers

def count_nums(nums):

    num_obj = {}

    for num in nums:
        if num in num_obj:
            num_obj[num] += 1
        else:
            num_obj[num] = 1

    return num_obj

def print_num_count(num_obj):

    for num in num_obj:
        print(f"{str(num)} apears {num_obj[num]} times")

def main():
    user_numbers = get_num_from_user()
    num_obj = count_nums(user_numbers)
    print_num_count(num_obj)


if __name__ == "__main__":
    main()
