{
 "cells": [
  {
   "cell_type": "code",
   "execution_count": 20,
   "id": "89b005ef",
   "metadata": {},
   "outputs": [],
   "source": [
    "def get_phone_num():\n",
    "    phonebook = {}\n",
    "\n",
    "    while True:\n",
    "        name = input(\"Enter a name: \")\n",
    "        if name == \"\":\n",
    "            break\n",
    "        number = input(\"Enter number: \")\n",
    "        phonebook[name] = number\n",
    "\n",
    "    return phonebook\n",
    "\n"
   ]
  },
  {
   "cell_type": "code",
   "execution_count": 19,
   "id": "3d77fbd9",
   "metadata": {},
   "outputs": [],
   "source": [
    "def print_phonebook(phonebook):\n",
    "    print(\"Phonebook:\")\n",
    "    for name in phonebook:\n",
    "        print(f\"{name} -> {phonebook[name]}\")"
   ]
  },
  {
   "cell_type": "code",
   "execution_count": 18,
   "id": "876d8233",
   "metadata": {},
   "outputs": [],
   "source": [
    "def lookup_phone_num(phonebook):\n",
    "    while True:\n",
    "        name = input(\"Enter a name to look up: \")\n",
    "        if name == \"\":\n",
    "            break\n",
    "        if name in phonebook:\n",
    "            print(f\"{phonebook[name]}\")\n",
    "        else:\n",
    "            print(f\"{name} not found in the phonebook.\")"
   ]
  },
  {
   "cell_type": "code",
   "execution_count": 22,
   "id": "f99cb431",
   "metadata": {},
   "outputs": [
    {
     "name": "stdout",
     "output_type": "stream",
     "text": [
      "Phonebook:\n",
      "dawood -> 12345\n",
      "suleman -> 23415\n",
      "12345\n",
      "23415\n"
     ]
    }
   ],
   "source": [
    "def main():\n",
    "    phonebook = get_phone_num()\n",
    "    print_phonebook(phonebook)\n",
    "    lookup_phone_num(phonebook)\n",
    "\n",
    "if __name__ == \"__main__\":\n",
    "    main()"
   ]
  },
  {
   "cell_type": "code",
   "execution_count": null,
   "id": "35e21b76",
   "metadata": {},
   "outputs": [],
   "source": []
  }
 ],
 "metadata": {
  "kernelspec": {
   "display_name": "Python 3",
   "language": "python",
   "name": "python3"
  },
  "language_info": {
   "codemirror_mode": {
    "name": "ipython",
    "version": 3
   },
   "file_extension": ".py",
   "mimetype": "text/x-python",
   "name": "python",
   "nbconvert_exporter": "python",
   "pygments_lexer": "ipython3",
   "version": "3.13.2"
  }
 },
 "nbformat": 4,
 "nbformat_minor": 5
}
