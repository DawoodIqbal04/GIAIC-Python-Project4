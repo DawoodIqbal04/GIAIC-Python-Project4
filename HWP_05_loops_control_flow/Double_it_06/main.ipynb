{
 "cells": [
  {
   "cell_type": "code",
   "execution_count": null,
   "id": "d6dc1d03",
   "metadata": {},
   "outputs": [
    {
     "name": "stdout",
     "output_type": "stream",
     "text": [
      "2 doubled is 4\n",
      "4 doubled is 8\n",
      "8 doubled is 16\n",
      "16 doubled is 32\n",
      "32 doubled is 64\n",
      "64 doubled is 128\n"
     ]
    }
   ],
   "source": [
    "\n",
    "def main():\n",
    "    user_num = int(input(\"Enter the number, than I double it: \"))\n",
    "\n",
    "    while user_num < 100:\n",
    "        print(f\"{user_num} doubled is {user_num * 2}\")\n",
    "        \n",
    "        user_num = user_num * 2\n",
    "\n",
    "if __name__ == \"__main__\":\n",
    "    main()\n"
   ]
  }
 ],
 "metadata": {
  "kernelspec": {
   "display_name": "Python 3",
   "language": "python",
   "name": "python3"
  },
  "language_info": {
   "codemirror_mode": {
    "name": "ipython",
    "version": 3
   },
   "file_extension": ".py",
   "mimetype": "text/x-python",
   "name": "python",
   "nbconvert_exporter": "python",
   "pygments_lexer": "ipython3",
   "version": "3.13.2"
  }
 },
 "nbformat": 4,
 "nbformat_minor": 5
}
